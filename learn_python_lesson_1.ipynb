{
  "nbformat": 4,
  "nbformat_minor": 0,
  "metadata": {
    "colab": {
      "provenance": [],
      "include_colab_link": true
    },
    "kernelspec": {
      "name": "python3",
      "display_name": "Python 3"
    },
    "language_info": {
      "name": "python"
    }
  },
  "cells": [
    {
      "cell_type": "markdown",
      "metadata": {
        "id": "view-in-github",
        "colab_type": "text"
      },
      "source": [
        "<a href=\"https://colab.research.google.com/github/francescacavallo/python_beginners_course/blob/main/learn_python_lesson_1.ipynb\" target=\"_parent\"><img src=\"https://colab.research.google.com/assets/colab-badge.svg\" alt=\"Open In Colab\"/></a>"
      ]
    },
    {
      "cell_type": "markdown",
      "source": [
        "#Concept #1: Variables"
      ],
      "metadata": {
        "id": "FNYkdyrVdsi1"
      }
    },
    {
      "cell_type": "code",
      "source": [
        "# A variable is like a labelled box that holds data\n",
        "\n",
        "name = \"Alex\"\n",
        "age = 25"
      ],
      "metadata": {
        "id": "CehrT5dGGRUI"
      },
      "execution_count": null,
      "outputs": []
    },
    {
      "cell_type": "markdown",
      "source": [
        "#Concept #2: Data types"
      ],
      "metadata": {
        "id": "taetBIWSGbJw"
      }
    },
    {
      "cell_type": "code",
      "source": [
        "# A variable can hold different types of data\n",
        "# We classify data based on their types\n",
        "# The most basic data types are integers, floats, and strings\n",
        "\n",
        "example_integer = 1\n",
        "example_float = 0.4\n",
        "example_string = \"word\"\n",
        "\n",
        "print(example_integer)\n",
        "print(example_float)\n",
        "print(example_string)\n",
        "\n",
        "print(type(example_integer))\n",
        "print(type(example_float))\n",
        "print(type(example_string))"
      ],
      "metadata": {
        "colab": {
          "base_uri": "https://localhost:8080/"
        },
        "id": "IRzCNnJtGeSU",
        "outputId": "8e3aeacc-4465-4bcb-9bc2-3b5a4232dacc"
      },
      "execution_count": null,
      "outputs": [
        {
          "output_type": "stream",
          "name": "stdout",
          "text": [
            "1\n",
            "0.4\n",
            "word\n",
            "<class 'int'>\n",
            "<class 'float'>\n",
            "<class 'str'>\n"
          ]
        }
      ]
    },
    {
      "cell_type": "markdown",
      "source": [
        "# Concept #3: Data Structures"
      ],
      "metadata": {
        "id": "DbsL8cqrG_wl"
      }
    },
    {
      "cell_type": "code",
      "source": [
        "# Data can be held in structures, which are collections of values\n",
        "# Two very common collections in python are lists and dictionaries\n",
        "\n",
        "example_list = [1, 2, 3]\n",
        "example_list = [\"a\", \"b\", \"c\"]\n",
        "\n",
        "example_dict = {\"key1\": 1, \"key2\": 2}\n",
        "example_dict = {\"key1\": \"a\", \"key2\": \"b\"}\n",
        "\n",
        "print(type(example_list))\n",
        "print(type(example_dict))"
      ],
      "metadata": {
        "colab": {
          "base_uri": "https://localhost:8080/"
        },
        "id": "CQ2WkfbqG--O",
        "outputId": "2cc51a9a-9001-4fca-b239-88eba7252012"
      },
      "execution_count": null,
      "outputs": [
        {
          "output_type": "stream",
          "name": "stdout",
          "text": [
            "<class 'list'>\n",
            "<class 'dict'>\n"
          ]
        }
      ]
    }
  ]
}