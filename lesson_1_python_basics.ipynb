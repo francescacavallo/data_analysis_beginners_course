{
  "nbformat": 4,
  "nbformat_minor": 0,
  "metadata": {
    "colab": {
      "provenance": [],
      "include_colab_link": true
    },
    "kernelspec": {
      "name": "python3",
      "display_name": "Python 3"
    },
    "language_info": {
      "name": "python"
    }
  },
  "cells": [
    {
      "cell_type": "markdown",
      "metadata": {
        "id": "view-in-github",
        "colab_type": "text"
      },
      "source": [
        "<a href=\"https://colab.research.google.com/github/francescacavallo/data_analysis_beginners_course/blob/main/lesson_1_python_basics.ipynb\" target=\"_parent\"><img src=\"https://colab.research.google.com/assets/colab-badge.svg\" alt=\"Open In Colab\"/></a>"
      ]
    },
    {
      "cell_type": "markdown",
      "source": [
        "# 📘 Python Basics for Absolute Beginners\n",
        "\n",
        "Welcome! This notebook covers:\n",
        "1. Variables\n",
        "2. Data Types\n",
        "3. Data Structures (Lists, Tuples, Dictionaries, Sets)\n"
      ],
      "metadata": {
        "id": "NuU5-4BQjCdU"
      }
    },
    {
      "cell_type": "markdown",
      "source": [
        "\n",
        "## 1. Variables"
      ],
      "metadata": {
        "id": "FNYkdyrVdsi1"
      }
    },
    {
      "cell_type": "code",
      "source": [
        "# A variable is like a labelled box that holds data\n",
        "name = \"Alex\"\n",
        "age = 25\n",
        "height = 5.6\n",
        "\n",
        "# You can use the print function to show the content of that \"box\"\n",
        "print(name)\n",
        "print(age)\n",
        "print(height)"
      ],
      "metadata": {
        "id": "CehrT5dGGRUI",
        "colab": {
          "base_uri": "https://localhost:8080/"
        },
        "outputId": "46247adc-90fd-46c9-bfe5-34a287ac204c"
      },
      "execution_count": 6,
      "outputs": [
        {
          "output_type": "stream",
          "name": "stdout",
          "text": [
            "Alex\n",
            "25\n",
            "5.6\n"
          ]
        }
      ]
    },
    {
      "cell_type": "code",
      "source": [
        "# You can reassign variables by changing the value on the left of the \"=\" sign\n",
        "age = 26\n",
        "print(\"Updated age:\", age)"
      ],
      "metadata": {
        "colab": {
          "base_uri": "https://localhost:8080/"
        },
        "id": "bfX0HYH5o53O",
        "outputId": "be5303cd-fa3f-48e1-e003-8a025c58f3a3"
      },
      "execution_count": 7,
      "outputs": [
        {
          "output_type": "stream",
          "name": "stdout",
          "text": [
            "Updated age: 26\n"
          ]
        }
      ]
    },
    {
      "cell_type": "markdown",
      "source": [
        "## Data types\n",
        "\n",
        "Common data types in Python:\n",
        "- str: text\n",
        "- int: whole numbers\n",
        "- float: decimal numbers\n",
        "- bool: True or False"
      ],
      "metadata": {
        "id": "taetBIWSGbJw"
      }
    },
    {
      "cell_type": "code",
      "source": [
        "# A variable can hold different types of data\n",
        "# We classify data based on their types\n",
        "# The most basic data types are integers, floats, strings, and bools\n",
        "\n",
        "example_integer = 1\n",
        "example_float = 0.4\n",
        "example_string = \"word\"\n",
        "example_bool = True\n",
        "\n",
        "print(f\"{example_integer = }\")\n",
        "print(f\"{example_float = }\")\n",
        "print(f\"{example_string = }\")\n",
        "print(f\"{example_bool = }\")"
      ],
      "metadata": {
        "colab": {
          "base_uri": "https://localhost:8080/"
        },
        "id": "IRzCNnJtGeSU",
        "outputId": "c5373339-c563-48e3-da5b-1ed94de56d48"
      },
      "execution_count": 23,
      "outputs": [
        {
          "output_type": "stream",
          "name": "stdout",
          "text": [
            "example_integer = 1\n",
            "example_float = 0.4\n",
            "example_string = 'word'\n",
            "example_bool = True\n"
          ]
        }
      ]
    },
    {
      "cell_type": "code",
      "source": [
        "# Check a variable’s type using `type()`\n",
        "print(f\"{type(example_integer) = }\")\n",
        "print(f\"{type(example_float) = }\")\n",
        "print(f\"{type(example_string) = }\")\n",
        "print(f\"{type(example_bool) = }\")"
      ],
      "metadata": {
        "colab": {
          "base_uri": "https://localhost:8080/"
        },
        "id": "CdEzAvtir2-D",
        "outputId": "823a4586-fe53-4207-8f61-08ad1715ace6"
      },
      "execution_count": 24,
      "outputs": [
        {
          "output_type": "stream",
          "name": "stdout",
          "text": [
            "type(example_integer) = <class 'int'>\n",
            "type(example_float) = <class 'float'>\n",
            "type(example_string) = <class 'str'>\n",
            "type(example_bool) = <class 'bool'>\n"
          ]
        }
      ]
    },
    {
      "cell_type": "markdown",
      "source": [
        "# 3: Data Structures\n",
        "Data can be held in structures, which are ways to store multiple items. You can think of them as are collections of values.\n",
        "\n",
        "Two very common collections in python are lists and dictionaries.\n"
      ],
      "metadata": {
        "id": "DbsL8cqrG_wl"
      }
    },
    {
      "cell_type": "markdown",
      "source": [
        "### Lists\n",
        "Ordered, changeable (mutable), allows duplicates\n"
      ],
      "metadata": {
        "id": "L0qogHyfr5yn"
      }
    },
    {
      "cell_type": "code",
      "source": [
        "fruits = [\"apple\", \"banana\", \"orange\"]\n",
        "print(fruits)"
      ],
      "metadata": {
        "colab": {
          "base_uri": "https://localhost:8080/"
        },
        "id": "CQ2WkfbqG--O",
        "outputId": "9d0ad294-5021-49af-b354-f64f42728fe1"
      },
      "execution_count": 9,
      "outputs": [
        {
          "output_type": "stream",
          "name": "stdout",
          "text": [
            "['apple', 'banana', 'orange']\n",
            "banana\n",
            "['apple', 'banana']\n",
            "['apple', 'banana', 'orange', 'grape']\n",
            "['apple', 'orange', 'grape']\n"
          ]
        }
      ]
    },
    {
      "cell_type": "code",
      "source": [
        "# Access elements by index. For example, select the element at index (or position) 1\n",
        "print(fruits[1])"
      ],
      "metadata": {
        "colab": {
          "base_uri": "https://localhost:8080/"
        },
        "id": "Kpb9BeLKr-N1",
        "outputId": "e38125bc-2191-4968-9c25-002efe4a168b"
      },
      "execution_count": 14,
      "outputs": [
        {
          "output_type": "stream",
          "name": "stdout",
          "text": [
            "orange\n"
          ]
        }
      ]
    },
    {
      "cell_type": "code",
      "source": [
        "# To access multiple elements, use \":\"\n",
        "print(fruits[0:2]) # selects items from index 0 to 1"
      ],
      "metadata": {
        "colab": {
          "base_uri": "https://localhost:8080/"
        },
        "id": "gmx-2tr4sA1B",
        "outputId": "4a0f6bde-70f8-4f7e-a21e-106d3c7d40e0"
      },
      "execution_count": 15,
      "outputs": [
        {
          "output_type": "stream",
          "name": "stdout",
          "text": [
            "['apple', 'orange']\n"
          ]
        }
      ]
    },
    {
      "cell_type": "code",
      "source": [
        "# Use append to add items at the end of the list\n",
        "fruits.append(\"grape\")\n",
        "print(fruits)"
      ],
      "metadata": {
        "colab": {
          "base_uri": "https://localhost:8080/"
        },
        "id": "G8r3SPvqsDIs",
        "outputId": "9e05606e-0e00-417c-b1a2-2764b1f9085b"
      },
      "execution_count": 16,
      "outputs": [
        {
          "output_type": "stream",
          "name": "stdout",
          "text": [
            "['apple', 'orange', 'grape', 'grape']\n"
          ]
        }
      ]
    },
    {
      "cell_type": "code",
      "source": [
        "# Use remove to remove a specific item\n",
        "fruits.remove(\"apple\")\n",
        "print(fruits)"
      ],
      "metadata": {
        "colab": {
          "base_uri": "https://localhost:8080/"
        },
        "id": "wL4pt7MTsFYs",
        "outputId": "08e453db-685c-4896-ff71-a708880e401d"
      },
      "execution_count": 18,
      "outputs": [
        {
          "output_type": "stream",
          "name": "stdout",
          "text": [
            "['orange', 'grape', 'grape']\n"
          ]
        }
      ]
    },
    {
      "cell_type": "markdown",
      "source": [
        "### Dictionaries\n",
        "Key-value pairs, unordered, mutable"
      ],
      "metadata": {
        "id": "tD1Y93eysLkA"
      }
    },
    {
      "cell_type": "code",
      "source": [
        "person = {\n",
        "    \"name\": \"Alice\", # the key is 'name', the value is 'Alice'\n",
        "    \"age\": 26,\n",
        "    \"is_student\": True\n",
        "}\n",
        "\n",
        "print(person)"
      ],
      "metadata": {
        "colab": {
          "base_uri": "https://localhost:8080/"
        },
        "id": "1iZlNLqEqVX_",
        "outputId": "d0d7faaa-516b-4399-8cfb-6be425333b77"
      },
      "execution_count": 10,
      "outputs": [
        {
          "output_type": "stream",
          "name": "stdout",
          "text": [
            "Alice\n",
            "{'name': 'Alice', 'age': 27, 'is_student': True, 'favourite_fruits': ['bananas', 'apples', 'oranges']}\n"
          ]
        }
      ]
    },
    {
      "cell_type": "code",
      "source": [
        "# Use the key to access values\n",
        "print(person[\"name\"])"
      ],
      "metadata": {
        "colab": {
          "base_uri": "https://localhost:8080/"
        },
        "id": "NYS1mAnqsOxV",
        "outputId": "77148cdd-7468-48aa-e6ae-92b2b454a9b1"
      },
      "execution_count": 19,
      "outputs": [
        {
          "output_type": "stream",
          "name": "stdout",
          "text": [
            "Alice\n"
          ]
        }
      ]
    },
    {
      "cell_type": "code",
      "source": [
        "# Use the key to update values\n",
        "person[\"age\"] = 27\n",
        "print(person[\"age\"])"
      ],
      "metadata": {
        "colab": {
          "base_uri": "https://localhost:8080/"
        },
        "id": "IpV9oH-OsVSw",
        "outputId": "89fcf930-c6b5-48ea-cb37-b9a3f54074fa"
      },
      "execution_count": 21,
      "outputs": [
        {
          "output_type": "stream",
          "name": "stdout",
          "text": [
            "27\n"
          ]
        }
      ]
    },
    {
      "cell_type": "code",
      "source": [
        "# Dictionaries can contain other structures, like lists\n",
        "person[\"favourite_fruits\"] = ['bananas', 'apples', 'oranges']\n",
        "print(person)"
      ],
      "metadata": {
        "colab": {
          "base_uri": "https://localhost:8080/"
        },
        "id": "Bmuc7Tj0sYcm",
        "outputId": "df2f01ed-1b6f-4b45-8466-ba3b9ae9aa4d"
      },
      "execution_count": 22,
      "outputs": [
        {
          "output_type": "stream",
          "name": "stdout",
          "text": [
            "{'name': 'Alice', 'age': 27, 'is_student': True, 'favourite_fruits': ['bananas', 'apples', 'oranges']}\n"
          ]
        }
      ]
    },
    {
      "cell_type": "markdown",
      "source": [
        "## Exercise"
      ],
      "metadata": {
        "id": "oGz0U_eMrCjE"
      }
    },
    {
      "cell_type": "code",
      "source": [
        "# Try adding code to the instructions below:\n",
        "\n",
        "# Assign your name to the variable \"my_name\"\n",
        "# Assign your age to the variable \"my_age\"\n",
        "# Print the data types of the 2 variables\n",
        "# Create a dictionary called \"myself\" and add 4 keys of your choice"
      ],
      "metadata": {
        "id": "qcaIhKtrrAdp"
      },
      "execution_count": 11,
      "outputs": []
    }
  ]
}