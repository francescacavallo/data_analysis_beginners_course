{
  "nbformat": 4,
  "nbformat_minor": 0,
  "metadata": {
    "colab": {
      "provenance": [],
      "include_colab_link": true
    },
    "kernelspec": {
      "name": "python3",
      "display_name": "Python 3"
    },
    "language_info": {
      "name": "python"
    }
  },
  "cells": [
    {
      "cell_type": "markdown",
      "metadata": {
        "id": "view-in-github",
        "colab_type": "text"
      },
      "source": [
        "<a href=\"https://colab.research.google.com/github/francescacavallo/data_analysis_beginners_course/blob/main/lesson_1_python_basics.ipynb\" target=\"_parent\"><img src=\"https://colab.research.google.com/assets/colab-badge.svg\" alt=\"Open In Colab\"/></a>"
      ]
    },
    {
      "cell_type": "markdown",
      "source": [
        "# 📘 Python Basics for Absolute Beginners\n",
        "\n",
        "Welcome! This notebook covers:\n",
        "1. Variables\n",
        "2. Data Types\n",
        "3. Data Structures (Lists, Tuples, Dictionaries, Sets)\n"
      ],
      "metadata": {
        "id": "NuU5-4BQjCdU"
      }
    },
    {
      "cell_type": "markdown",
      "source": [
        "\n",
        "## 1. Variables"
      ],
      "metadata": {
        "id": "FNYkdyrVdsi1"
      }
    },
    {
      "cell_type": "code",
      "source": [
        "# A variable is like a labelled box that holds data\n",
        "name = \"Alex\"\n",
        "age = 25\n",
        "height = 5.6\n",
        "\n",
        "# You can use the print function to show the content of that \"box\"\n",
        "print(name)\n",
        "print(age)\n",
        "print(height)"
      ],
      "metadata": {
        "id": "CehrT5dGGRUI",
        "colab": {
          "base_uri": "https://localhost:8080/"
        },
        "outputId": "46247adc-90fd-46c9-bfe5-34a287ac204c"
      },
      "execution_count": 6,
      "outputs": [
        {
          "output_type": "stream",
          "name": "stdout",
          "text": [
            "Alex\n",
            "25\n",
            "5.6\n"
          ]
        }
      ]
    },
    {
      "cell_type": "code",
      "source": [
        "# You can reassign variables by changing the value on the left of the \"=\" sign\n",
        "age = 26\n",
        "print(\"Updated age:\", age)"
      ],
      "metadata": {
        "colab": {
          "base_uri": "https://localhost:8080/"
        },
        "id": "bfX0HYH5o53O",
        "outputId": "be5303cd-fa3f-48e1-e003-8a025c58f3a3"
      },
      "execution_count": 7,
      "outputs": [
        {
          "output_type": "stream",
          "name": "stdout",
          "text": [
            "Updated age: 26\n"
          ]
        }
      ]
    },
    {
      "cell_type": "markdown",
      "source": [
        "## Data types\n",
        "\n",
        "Common data types in Python:\n",
        "- str: text\n",
        "- int: whole numbers\n",
        "- float: decimal numbers\n",
        "- bool: True or False"
      ],
      "metadata": {
        "id": "taetBIWSGbJw"
      }
    },
    {
      "cell_type": "code",
      "source": [
        "# A variable can hold different types of data\n",
        "# We classify data based on their types\n",
        "# The most basic data types are integers, floats, strings, and bools\n",
        "\n",
        "example_integer = 1\n",
        "example_float = 0.4\n",
        "example_string = \"word\"\n",
        "example_bool = True\n",
        "\n",
        "print(example_integer)\n",
        "print(example_float)\n",
        "print(example_string)\n",
        "print(example_bool)\n",
        "\n",
        "# Check a variable’s type using `type()`\n",
        "print(type(example_integer))\n",
        "print(type(example_float))\n",
        "print(type(example_string))\n",
        "print(type(example_bool))"
      ],
      "metadata": {
        "colab": {
          "base_uri": "https://localhost:8080/"
        },
        "id": "IRzCNnJtGeSU",
        "outputId": "20fc07e5-92d9-4b71-f6ca-bb79242bff70"
      },
      "execution_count": 8,
      "outputs": [
        {
          "output_type": "stream",
          "name": "stdout",
          "text": [
            "1\n",
            "0.4\n",
            "word\n",
            "True\n",
            "<class 'int'>\n",
            "<class 'float'>\n",
            "<class 'str'>\n",
            "<class 'bool'>\n"
          ]
        }
      ]
    },
    {
      "cell_type": "markdown",
      "source": [
        "# 3: Data Structures\n",
        "Data can be held in structures, which are ways to store multiple items. You can think of them as are collections of values.\n",
        "\n",
        "Two very common collections in python are lists and dictionaries.\n"
      ],
      "metadata": {
        "id": "DbsL8cqrG_wl"
      }
    },
    {
      "cell_type": "code",
      "source": [
        "# --- LISTS ---\n",
        "# Ordered, changeable (mutable), allows duplicates\n",
        "\n",
        "fruits = [\"apple\", \"banana\", \"orange\"]\n",
        "print(fruits)\n",
        "\n",
        "# Access elements by index. For example, select the element at index (or position) 1\n",
        "print(fruits[1])\n",
        "\n",
        "# To access multiple elements, use \":\"\n",
        "print(fruits[0:2]) # selects items from index 0 to 1\n",
        "\n",
        "# Use append to add items at the end of the list\n",
        "fruits.append(\"grape\")\n",
        "print(fruits)\n",
        "\n",
        "# Use remove to remove a specific item\n",
        "fruits.remove(\"banana\")\n",
        "print(fruits)"
      ],
      "metadata": {
        "colab": {
          "base_uri": "https://localhost:8080/"
        },
        "id": "CQ2WkfbqG--O",
        "outputId": "9d0ad294-5021-49af-b354-f64f42728fe1"
      },
      "execution_count": 9,
      "outputs": [
        {
          "output_type": "stream",
          "name": "stdout",
          "text": [
            "['apple', 'banana', 'orange']\n",
            "banana\n",
            "['apple', 'banana']\n",
            "['apple', 'banana', 'orange', 'grape']\n",
            "['apple', 'orange', 'grape']\n"
          ]
        }
      ]
    },
    {
      "cell_type": "code",
      "source": [
        "# --- DICTIONARIES ---\n",
        "# Key-value pairs, unordered, mutable\n",
        "\n",
        "person = {\n",
        "    \"name\": \"Alice\", # the key is 'name', the value is 'Alice'\n",
        "    \"age\": 26,\n",
        "    \"is_student\": True\n",
        "}\n",
        "\n",
        "# Use the key to access values\n",
        "print(person[\"name\"])\n",
        "\n",
        "# Use the key to update values\n",
        "person[\"age\"] = 27\n",
        "\n",
        "# Dictionaries can contain other structures, like lists\n",
        "person[\"favourite_fruits\"] = ['bananas', 'apples', 'oranges']\n",
        "\n",
        "print(person)"
      ],
      "metadata": {
        "colab": {
          "base_uri": "https://localhost:8080/"
        },
        "id": "1iZlNLqEqVX_",
        "outputId": "d0d7faaa-516b-4399-8cfb-6be425333b77"
      },
      "execution_count": 10,
      "outputs": [
        {
          "output_type": "stream",
          "name": "stdout",
          "text": [
            "Alice\n",
            "{'name': 'Alice', 'age': 27, 'is_student': True, 'favourite_fruits': ['bananas', 'apples', 'oranges']}\n"
          ]
        }
      ]
    },
    {
      "cell_type": "markdown",
      "source": [
        "## Exercise"
      ],
      "metadata": {
        "id": "oGz0U_eMrCjE"
      }
    },
    {
      "cell_type": "code",
      "source": [
        "# Try adding code to the instructions below:\n",
        "\n",
        "# Assign your name to the variable \"my_name\"\n",
        "# Assign your age to the variable \"my_age\"\n",
        "# Print the data types of the 2 variables\n",
        "# Create a dictionary called \"myself\" and add 4 keys of your choice"
      ],
      "metadata": {
        "id": "qcaIhKtrrAdp"
      },
      "execution_count": 11,
      "outputs": []
    }
  ]
}